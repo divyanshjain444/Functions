{
  "nbformat": 4,
  "nbformat_minor": 0,
  "metadata": {
    "colab": {
      "provenance": []
    },
    "kernelspec": {
      "name": "python3",
      "display_name": "Python 3"
    },
    "language_info": {
      "name": "python"
    }
  },
  "cells": [
    {
      "cell_type": "markdown",
      "source": [
        "#Functions\n"
      ],
      "metadata": {
        "id": "gsa8eYg4W_7u"
      }
    },
    {
      "cell_type": "markdown",
      "source": [
        "1.  What is the difference between a function and a method in Python?\n",
        "    - A **function** is a block of code that performs a specific task and can be called independently. A **method** is a function that is associated with an object and is called on that object (e.g., `object.method()'). Methods always belong to an object, while functions do not.\n",
        "\n",
        "2.  Explain the concept of function arguments and parameters in Python.\n",
        "    - In Python, **parameters** are the variables defined in a function's signature (e.g., 'def func(param1, param2)'). **Arguments** are the actual values passed to those parameters when the function is called (e.g., 'func(5, 10)`).\n",
        "\n",
        "3.  What are the different ways to define and call a function in Python?\n",
        "    - In Python, functions can be defined and called in these ways:\n",
        "\n",
        "    **Basic Function**: Defined using 'def' and called directly by its name.\n",
        "\n",
        "    **Function with Parameters**: Takes arguments when called to perform operations.\n",
        "\n",
        "    **Function with Default Parameters**: Allows default values for parameters if no arguments are passed.\n",
        "\n",
        "    **Function with Variable Arguments ('*args')**: Accepts a variable number of positional arguments.\n",
        "\n",
        "    **Function with Keyword Arguments (`**kwargs`)**: Accepts a variable number of keyword arguments (name-value pairs).\n",
        "\n",
        "4. What is the purpose of the 'return' statement in a Python function?\n",
        "   - The 'return' statement in a Python function is used to exit the function and send a result back to the caller. It can return a value or 'None' if no value is specified.\n",
        "\n",
        "5. What are iterators in Python and how do they differ from iterables?\n",
        "   - In Python, an iterator is an object that allows iteration over a collection (like a list) one element at a time, using __iter__() and __next__() methods.\n",
        "   *Iterable can be looped over, while an iterator actually performs the iteration and keeps track of its state.\n",
        "\n",
        "6.  Explain the concept of generators in Python and how they are defined.\n",
        "    - Generators in Python are functions that return an iterator using the yield keyword, allowing lazy evaluation (values are produced one at a time, only when needed). They are defined like regular functions but use yield to return values instead of return.\n",
        "\n",
        "7.  What are the advantages of using generators over regular functions?\n",
        "    - Generators offer several advantages over regular functions:\n",
        "\n",
        "    **Memory Efficiency**: They generate values one at a time, avoiding the need to store large datasets in memory.\n",
        "\n",
        "    **Lazy Evaluation**: Values are computed only when needed, making them suitable for large or infinite sequences.\n",
        "\n",
        "    **State Retention**: Generators maintain their state between 'yield' calls, allowing efficient iteration.\n",
        "\n",
        "8.  What is a lambda function in Python and when is it typically used?\n",
        "    - A lambda function in Python is a small, anonymous function defined using the lambda keyword. It can have any number of arguments but only one expression, which is evaluated and returned.\n",
        "    - Typically used for short, throwaway functions that are passed as arguments to higher-order functions (e.g., map(), filter(), sorted()).\n",
        "\n",
        "9.  Explain the purpose and usage of the 'map()' function in Python.\n",
        "    - The map() function in Python applies a given function to all items in an iterable (e.g., list) and returns a map object (which can be converted to a list or other iterable).\n",
        "\n",
        "10. What is the difference between 'map()', 'reduce()', and 'filter()' functions in Python?\n",
        "    - map(): Applies a function to each item in an iterable and returns an iterator with the results.\n",
        "    - reduce(): Applies a function cumulatively to the items of an iterable, reducing it to a single value.\n",
        "    - filter(): Filters elements of an iterable based on a function that returns True or False.\n",
        "\n",
        "11. Write the internal mechanism for sum operation using  reduce function on this given\n",
        "list:[47,11,42,13];\n",
        "     - To perform a sum operation using 'reduce()' on the list '[47, 11, 42, 13]', here's how it works step by step:\n",
        "\n",
        "  **Initial Step**:\n",
        "   - Function: 'lambda x, y: x + y'\n",
        "   - List: '[47, 11, 42, 13]'\n",
        "   \n",
        "  **First operation**:\n",
        "   - Apply the function on the first two elements: '47 + 11 = 58'\n",
        "   \n",
        "  **Second operation**:\n",
        "   - Apply the function on the result and next element: '58 + 42 = 100'\n",
        "   \n",
        "  **Third operation**:\n",
        "   - Apply the function on the result and the last element: '100 + 13 = 113'\n",
        "\n",
        "  **Result**: '113'\n",
        "\n",
        "  So, 'reduce(lambda x, y: x + y, [47, 11, 42, 13])' gives '113'.\n",
        "\n",
        "\n"
      ],
      "metadata": {
        "id": "M-09HHB1XEcc"
      }
    },
    {
      "cell_type": "code",
      "source": [
        "# 1. Write a Python function that takes a list of numbers as input and returns the sum of all even numbers in the list.\n",
        "\n",
        "def sum_of_even_numbers(numbers):\n",
        "    return sum(filter(lambda x: x % 2 == 0, numbers))\n",
        "\n",
        "  # Example usage:\n",
        "numbers = [47, 11, 42, 13, 6]\n",
        "result = sum_of_even_numbers(numbers)\n",
        "print(result)"
      ],
      "metadata": {
        "colab": {
          "base_uri": "https://localhost:8080/"
        },
        "id": "XnX7gR46m_mk",
        "outputId": "5f0eddf4-894c-4560-fd15-a50a5d63798c"
      },
      "execution_count": 1,
      "outputs": [
        {
          "output_type": "stream",
          "name": "stdout",
          "text": [
            "48\n"
          ]
        }
      ]
    },
    {
      "cell_type": "code",
      "source": [
        "# 2. Create a Python function that accepts a string and returns the reverse of that string.\n",
        "\n",
        "def reverse_string(s):\n",
        "    return s[::-1]\n",
        "\n",
        "  # Example usage:\n",
        "string = \"hello\"\n",
        "result = reverse_string(string)\n",
        "print(result)\n"
      ],
      "metadata": {
        "colab": {
          "base_uri": "https://localhost:8080/"
        },
        "id": "FTU3laYKqA97",
        "outputId": "bfea797b-d899-4ebf-e7e2-f4dba79b808b"
      },
      "execution_count": 2,
      "outputs": [
        {
          "output_type": "stream",
          "name": "stdout",
          "text": [
            "olleh\n"
          ]
        }
      ]
    },
    {
      "cell_type": "code",
      "source": [
        "# 3. Implement a Python function that takes a list of integers and returns a new list containing the squares of each number.\n",
        "\n",
        "def square_numbers(numbers):\n",
        "    return [x ** 2 for x in numbers]\n",
        "\n",
        "  # Example usage:\n",
        "numbers = [1, 2, 3, 4, 5]\n",
        "result = square_numbers(numbers)\n",
        "print(result)\n"
      ],
      "metadata": {
        "colab": {
          "base_uri": "https://localhost:8080/"
        },
        "id": "3fz6upM0qKJx",
        "outputId": "e7ed1631-e401-4d27-a297-04df413d5446"
      },
      "execution_count": 3,
      "outputs": [
        {
          "output_type": "stream",
          "name": "stdout",
          "text": [
            "[1, 4, 9, 16, 25]\n"
          ]
        }
      ]
    },
    {
      "cell_type": "code",
      "source": [
        "# 4.  Write a Python function that checks if a given number is prime or not from 1 to 200.\n",
        "\n",
        "def is_prime(n):\n",
        "    if n <= 1:\n",
        "        return False\n",
        "    for i in range(2, int(n ** 0.5) + 1):\n",
        "        if n % i == 0:\n",
        "            return False\n",
        "    return True\n",
        "\n",
        "  # Check prime numbers from 1 to 200\n",
        "prime_numbers = [num for num in range(1, 201) if is_prime(num)]\n",
        "\n",
        "print(prime_numbers)\n"
      ],
      "metadata": {
        "colab": {
          "base_uri": "https://localhost:8080/"
        },
        "id": "0mNQ8QvfqNlv",
        "outputId": "2346004d-74ac-4009-cad9-e3fe0277b84a"
      },
      "execution_count": 4,
      "outputs": [
        {
          "output_type": "stream",
          "name": "stdout",
          "text": [
            "[2, 3, 5, 7, 11, 13, 17, 19, 23, 29, 31, 37, 41, 43, 47, 53, 59, 61, 67, 71, 73, 79, 83, 89, 97, 101, 103, 107, 109, 113, 127, 131, 137, 139, 149, 151, 157, 163, 167, 173, 179, 181, 191, 193, 197, 199]\n"
          ]
        }
      ]
    },
    {
      "cell_type": "code",
      "source": [
        "# 5. Create an iterator class in Python that generates the Fibonacci sequence up to a specified number  of terms.\n",
        "\n",
        "class FibonacciIterator:\n",
        "    def __init__(self, terms):\n",
        "        self.terms = terms\n",
        "        self.a, self.b = 0, 1\n",
        "        self.count = 0\n",
        "\n",
        "    def __iter__(self):\n",
        "        return self\n",
        "\n",
        "    def __next__(self):\n",
        "        if self.count < self.terms:\n",
        "            current = self.a\n",
        "            self.a, self.b = self.b, self.a + self.b\n",
        "            self.count += 1\n",
        "            return current\n",
        "        else:\n",
        "            raise StopIteration\n",
        "\n",
        "# Example usage:\n",
        "fib = FibonacciIterator(10)\n",
        "for num in fib:\n",
        "    print(num)\n"
      ],
      "metadata": {
        "colab": {
          "base_uri": "https://localhost:8080/"
        },
        "id": "2XLwf6-qqTtr",
        "outputId": "abfd483a-cf21-46b0-bfef-819516807550"
      },
      "execution_count": 5,
      "outputs": [
        {
          "output_type": "stream",
          "name": "stdout",
          "text": [
            "0\n",
            "1\n",
            "1\n",
            "2\n",
            "3\n",
            "5\n",
            "8\n",
            "13\n",
            "21\n",
            "34\n"
          ]
        }
      ]
    },
    {
      "cell_type": "code",
      "source": [
        "# 6.  Write a generator function in Python that yields the powers of 2 up to a given exponent.\n",
        "\n",
        "def powers_of_2(exponent):\n",
        "    for i in range(exponent + 1):\n",
        "        yield 2 ** i\n",
        "\n",
        "# Example usage:\n",
        "for power in powers_of_2(5):\n",
        "    print(power)\n"
      ],
      "metadata": {
        "colab": {
          "base_uri": "https://localhost:8080/"
        },
        "id": "N1fJIHUVqZ9N",
        "outputId": "ccfb1168-41dc-42e2-abec-81ef3264e1e7"
      },
      "execution_count": 6,
      "outputs": [
        {
          "output_type": "stream",
          "name": "stdout",
          "text": [
            "1\n",
            "2\n",
            "4\n",
            "8\n",
            "16\n",
            "32\n"
          ]
        }
      ]
    },
    {
      "cell_type": "code",
      "source": [
        "# 7.  Implement a generator function that reads a file line by line and yields each line as a string.\n",
        "\n",
        "    #generator function  -->  step by step result\n",
        "def square_no_generator(n):\n",
        "    for i in range(n):\n",
        "        yield i**2\n",
        "\n",
        "square_no_generator(5)\n",
        "gen=square_no_generator(5)\n",
        "next(gen)\n",
        "next(gen)\n"
      ],
      "metadata": {
        "colab": {
          "base_uri": "https://localhost:8080/"
        },
        "id": "xHpUJkLTqndT",
        "outputId": "09f808a4-473c-4dc9-9879-1c71e6ea9a9c"
      },
      "execution_count": 10,
      "outputs": [
        {
          "output_type": "execute_result",
          "data": {
            "text/plain": [
              "1"
            ]
          },
          "metadata": {},
          "execution_count": 10
        }
      ]
    },
    {
      "cell_type": "code",
      "source": [
        "# 8. Use a lambda function in Python to sort a list of tuples based on the second element of each tuple.\n",
        "\n",
        "# List of tuples\n",
        "tuples = [(1, 5), (2, 2), (3, 8), (4, 1)]\n",
        "\n",
        "  # Sort the list using lambda function based on the second element of each tuple\n",
        "sorted_tuples = sorted(tuples, key=lambda x: x[1])\n",
        "\n",
        "print(sorted_tuples)\n"
      ],
      "metadata": {
        "colab": {
          "base_uri": "https://localhost:8080/"
        },
        "id": "bygmDvnNrp74",
        "outputId": "2439a78d-69b5-4ecc-bfc9-aef9ed6d94e1"
      },
      "execution_count": 11,
      "outputs": [
        {
          "output_type": "stream",
          "name": "stdout",
          "text": [
            "[(4, 1), (2, 2), (1, 5), (3, 8)]\n"
          ]
        }
      ]
    },
    {
      "cell_type": "code",
      "source": [
        "# 9. Write a Python program that uses `map()` to convert a list of temperatures from Celsius to Fahrenheit.\n",
        "\n",
        "# List of temperatures in Celsius\n",
        "celsius_temperatures = [0, 20, 25, 30, 35]\n",
        "\n",
        "# Convert Celsius to Fahrenheit using map()\n",
        "fahrenheit_temperatures = list(map(lambda c: (c * 9/5) + 32, celsius_temperatures))\n",
        "\n",
        "print(fahrenheit_temperatures)\n"
      ],
      "metadata": {
        "colab": {
          "base_uri": "https://localhost:8080/"
        },
        "id": "Tv8L4AL3r07j",
        "outputId": "023c7395-2659-4a16-c5dd-dce10a128242"
      },
      "execution_count": 12,
      "outputs": [
        {
          "output_type": "stream",
          "name": "stdout",
          "text": [
            "[32.0, 68.0, 77.0, 86.0, 95.0]\n"
          ]
        }
      ]
    },
    {
      "cell_type": "code",
      "source": [
        "# 10. Create a Python program that uses `filter()` to remove all the vowels from a given string.\n",
        "\n",
        "# Function to remove vowels\n",
        "def remove_vowels(char):\n",
        "    return char.lower() not in 'aeiou'\n",
        "\n",
        "# Given string\n",
        "input_string = \"Hello World\"\n",
        "\n",
        "# Use filter() to remove vowels\n",
        "result = ''.join(filter(remove_vowels, input_string))\n",
        "\n",
        "print(result)\n"
      ],
      "metadata": {
        "colab": {
          "base_uri": "https://localhost:8080/"
        },
        "id": "Zzvb97Iur-qs",
        "outputId": "926d963d-f364-4931-96b3-028c28b8f0b4"
      },
      "execution_count": 13,
      "outputs": [
        {
          "output_type": "stream",
          "name": "stdout",
          "text": [
            "Hll Wrld\n"
          ]
        }
      ]
    }
  ]
}